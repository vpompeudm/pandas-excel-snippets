{
 "metadata": {
  "language_info": {
   "codemirror_mode": {
    "name": "ipython",
    "version": 3
   },
   "file_extension": ".py",
   "mimetype": "text/x-python",
   "name": "python",
   "nbconvert_exporter": "python",
   "pygments_lexer": "ipython3",
   "version": "3.7.9-final"
  },
  "orig_nbformat": 2,
  "kernelspec": {
   "name": "python3",
   "display_name": "Python 3.7.9 64-bit",
   "metadata": {
    "interpreter": {
     "hash": "8e279ed1be5972c5a08618305c952d5cbfe617215068de122bc1ca55633aec59"
    }
   }
  }
 },
 "nbformat": 4,
 "nbformat_minor": 2,
 "cells": [
  {
   "cell_type": "code",
   "execution_count": 1,
   "metadata": {},
   "outputs": [],
   "source": [
    "import pandas as pd\n",
    "import matplotlib.pyplot as plt\n",
    "import seaborn as sns\n",
    "import xlsxwriter as xls   "
   ]
  },
  {
   "cell_type": "code",
   "execution_count": 2,
   "metadata": {},
   "outputs": [
    {
     "output_type": "execute_result",
     "data": {
      "text/plain": [
       "   valence  year  acousticness  \\\n",
       "0   0.0594  1921         0.982   \n",
       "1   0.9630  1921         0.732   \n",
       "2   0.0394  1921         0.961   \n",
       "3   0.1650  1921         0.967   \n",
       "4   0.2530  1921         0.957   \n",
       "\n",
       "                                             artists  danceability  \\\n",
       "0  ['Sergei Rachmaninoff', 'James Levine', 'Berli...         0.279   \n",
       "1                                     ['Dennis Day']         0.819   \n",
       "2  ['KHP Kridhamardawa Karaton Ngayogyakarta Hadi...         0.328   \n",
       "3                                   ['Frank Parker']         0.275   \n",
       "4                                     ['Phil Regan']         0.418   \n",
       "\n",
       "   duration_ms  energy  explicit                      id  instrumentalness  \\\n",
       "0       831667   0.211         0  4BJqT0PrAfrxzMOxytFOIz          0.878000   \n",
       "1       180533   0.341         0  7xPhfUan2yNtyFG0cUWkt8          0.000000   \n",
       "2       500062   0.166         0  1o6I8BglA6ylDMrIELygv1          0.913000   \n",
       "3       210000   0.309         0  3ftBPsC5vPBKxYSee08FDH          0.000028   \n",
       "4       166693   0.193         0  4d6HGyGT8e121BsdKmw9v6          0.000002   \n",
       "\n",
       "   key  liveness  loudness  mode  \\\n",
       "0   10     0.665   -20.096     1   \n",
       "1    7     0.160   -12.441     1   \n",
       "2    3     0.101   -14.850     1   \n",
       "3    5     0.381    -9.316     1   \n",
       "4    3     0.229   -10.096     1   \n",
       "\n",
       "                                                name  popularity release_date  \\\n",
       "0  Piano Concerto No. 3 in D Minor, Op. 30: III. ...           4         1921   \n",
       "1                            Clancy Lowered the Boom           5         1921   \n",
       "2                                          Gati Bali           5         1921   \n",
       "3                                          Danny Boy           3         1921   \n",
       "4                        When Irish Eyes Are Smiling           2         1921   \n",
       "\n",
       "   speechiness    tempo  \n",
       "0       0.0366   80.954  \n",
       "1       0.4150   60.936  \n",
       "2       0.0339  110.339  \n",
       "3       0.0354  100.109  \n",
       "4       0.0380  101.665  "
      ],
      "text/html": "<div>\n<style scoped>\n    .dataframe tbody tr th:only-of-type {\n        vertical-align: middle;\n    }\n\n    .dataframe tbody tr th {\n        vertical-align: top;\n    }\n\n    .dataframe thead th {\n        text-align: right;\n    }\n</style>\n<table border=\"1\" class=\"dataframe\">\n  <thead>\n    <tr style=\"text-align: right;\">\n      <th></th>\n      <th>valence</th>\n      <th>year</th>\n      <th>acousticness</th>\n      <th>artists</th>\n      <th>danceability</th>\n      <th>duration_ms</th>\n      <th>energy</th>\n      <th>explicit</th>\n      <th>id</th>\n      <th>instrumentalness</th>\n      <th>key</th>\n      <th>liveness</th>\n      <th>loudness</th>\n      <th>mode</th>\n      <th>name</th>\n      <th>popularity</th>\n      <th>release_date</th>\n      <th>speechiness</th>\n      <th>tempo</th>\n    </tr>\n  </thead>\n  <tbody>\n    <tr>\n      <th>0</th>\n      <td>0.0594</td>\n      <td>1921</td>\n      <td>0.982</td>\n      <td>['Sergei Rachmaninoff', 'James Levine', 'Berli...</td>\n      <td>0.279</td>\n      <td>831667</td>\n      <td>0.211</td>\n      <td>0</td>\n      <td>4BJqT0PrAfrxzMOxytFOIz</td>\n      <td>0.878000</td>\n      <td>10</td>\n      <td>0.665</td>\n      <td>-20.096</td>\n      <td>1</td>\n      <td>Piano Concerto No. 3 in D Minor, Op. 30: III. ...</td>\n      <td>4</td>\n      <td>1921</td>\n      <td>0.0366</td>\n      <td>80.954</td>\n    </tr>\n    <tr>\n      <th>1</th>\n      <td>0.9630</td>\n      <td>1921</td>\n      <td>0.732</td>\n      <td>['Dennis Day']</td>\n      <td>0.819</td>\n      <td>180533</td>\n      <td>0.341</td>\n      <td>0</td>\n      <td>7xPhfUan2yNtyFG0cUWkt8</td>\n      <td>0.000000</td>\n      <td>7</td>\n      <td>0.160</td>\n      <td>-12.441</td>\n      <td>1</td>\n      <td>Clancy Lowered the Boom</td>\n      <td>5</td>\n      <td>1921</td>\n      <td>0.4150</td>\n      <td>60.936</td>\n    </tr>\n    <tr>\n      <th>2</th>\n      <td>0.0394</td>\n      <td>1921</td>\n      <td>0.961</td>\n      <td>['KHP Kridhamardawa Karaton Ngayogyakarta Hadi...</td>\n      <td>0.328</td>\n      <td>500062</td>\n      <td>0.166</td>\n      <td>0</td>\n      <td>1o6I8BglA6ylDMrIELygv1</td>\n      <td>0.913000</td>\n      <td>3</td>\n      <td>0.101</td>\n      <td>-14.850</td>\n      <td>1</td>\n      <td>Gati Bali</td>\n      <td>5</td>\n      <td>1921</td>\n      <td>0.0339</td>\n      <td>110.339</td>\n    </tr>\n    <tr>\n      <th>3</th>\n      <td>0.1650</td>\n      <td>1921</td>\n      <td>0.967</td>\n      <td>['Frank Parker']</td>\n      <td>0.275</td>\n      <td>210000</td>\n      <td>0.309</td>\n      <td>0</td>\n      <td>3ftBPsC5vPBKxYSee08FDH</td>\n      <td>0.000028</td>\n      <td>5</td>\n      <td>0.381</td>\n      <td>-9.316</td>\n      <td>1</td>\n      <td>Danny Boy</td>\n      <td>3</td>\n      <td>1921</td>\n      <td>0.0354</td>\n      <td>100.109</td>\n    </tr>\n    <tr>\n      <th>4</th>\n      <td>0.2530</td>\n      <td>1921</td>\n      <td>0.957</td>\n      <td>['Phil Regan']</td>\n      <td>0.418</td>\n      <td>166693</td>\n      <td>0.193</td>\n      <td>0</td>\n      <td>4d6HGyGT8e121BsdKmw9v6</td>\n      <td>0.000002</td>\n      <td>3</td>\n      <td>0.229</td>\n      <td>-10.096</td>\n      <td>1</td>\n      <td>When Irish Eyes Are Smiling</td>\n      <td>2</td>\n      <td>1921</td>\n      <td>0.0380</td>\n      <td>101.665</td>\n    </tr>\n  </tbody>\n</table>\n</div>"
     },
     "metadata": {},
     "execution_count": 2
    }
   ],
   "source": [
    "data_df = pd.read_csv('data.csv')\n",
    "data_df.head()"
   ]
  },
  {
   "cell_type": "code",
   "execution_count": 3,
   "metadata": {},
   "outputs": [],
   "source": [
    "mask = data_df.artists.apply(lambda x: 'Kendrick Lamar' in x)\n",
    "KL_df = data_df[mask]\n",
    "mask = data_df.artists.apply(lambda x: 'Frank Ocean' in x)\n",
    "FO_df = data_df[mask]\n",
    "mask = data_df.artists.apply(lambda x: 'Pharrell Williams' in x)\n",
    "PW_df = data_df[mask]"
   ]
  },
  {
   "cell_type": "code",
   "execution_count": 4,
   "metadata": {},
   "outputs": [],
   "source": [
    "KL_df.drop(['duration_ms', 'acousticness', 'popularity', 'explicit', 'id', 'instrumentalness', 'loudness', 'speechiness', 'liveness', 'artists'], axis = 1, inplace = True)\n",
    "FO_df.drop(['duration_ms', 'acousticness', 'popularity', 'explicit', 'id', 'instrumentalness', 'loudness', 'speechiness', 'liveness', 'artists'], axis = 1, inplace = True)\n",
    "PW_df.drop(['duration_ms', 'acousticness', 'popularity', 'explicit', 'id', 'instrumentalness', 'loudness', 'speechiness', 'liveness', 'artists'], axis = 1, inplace = True)"
   ]
  },
  {
   "cell_type": "code",
   "execution_count": 5,
   "metadata": {},
   "outputs": [],
   "source": [
    "KL_df.query('year>2011 and year<2016', inplace = True)\n",
    "FO_df.query('year>2011 and year<2016', inplace = True)\n",
    "PW_df.query('year>2011 and year<2016', inplace = True)"
   ]
  },
  {
   "cell_type": "code",
   "execution_count": 6,
   "metadata": {},
   "outputs": [],
   "source": [
    "KL_df = KL_df[KL_df['release_date'].map(len) > 9]\n",
    "KL_df.sort_values(by='release_date', inplace = True)\n",
    "\n",
    "FO_df = FO_df[FO_df['release_date'].map(len) > 9]\n",
    "FO_df.sort_values(by='release_date', inplace = True)\n",
    "\n",
    "PW_df = PW_df[PW_df['release_date'].map(len) > 9]\n",
    "PW_df.sort_values(by='release_date', inplace = True)"
   ]
  },
  {
   "cell_type": "code",
   "execution_count": 7,
   "metadata": {},
   "outputs": [],
   "source": [
    "KL_df.drop_duplicates(subset='name', keep=\"first\", inplace = True)\n",
    "FO_df.drop_duplicates(subset='name', keep=\"first\", inplace = True)\n",
    "PW_df.drop_duplicates(subset='name', keep=\"first\", inplace = True)"
   ]
  },
  {
   "cell_type": "code",
   "execution_count": 8,
   "metadata": {},
   "outputs": [
    {
     "output_type": "execute_result",
     "data": {
      "text/plain": [
       "        year release_date                               name  valence  energy  \\\n",
       "18049   2012   2012-01-01             Swimming Pools (Drank)   0.1890   0.447   \n",
       "153947  2012   2012-01-01                        See No Evil   0.0749   0.440   \n",
       "18117   2012   2012-03-23                  Fight the Feeling   0.8110   0.881   \n",
       "107080  2012   2012-05-11  Illuminate (feat. Kendrick Lamar)   0.5040   0.855   \n",
       "37180   2013   2013-01-01           Stay Ready (What A Life)   0.3080   0.493   \n",
       "\n",
       "        danceability  key  mode    tempo  \n",
       "18049          0.577    8     1   74.236  \n",
       "153947         0.489    9     1  156.807  \n",
       "18117          0.569   11     0  148.067  \n",
       "107080         0.719    3     0  132.830  \n",
       "37180          0.347    8     0   82.887  "
      ],
      "text/html": "<div>\n<style scoped>\n    .dataframe tbody tr th:only-of-type {\n        vertical-align: middle;\n    }\n\n    .dataframe tbody tr th {\n        vertical-align: top;\n    }\n\n    .dataframe thead th {\n        text-align: right;\n    }\n</style>\n<table border=\"1\" class=\"dataframe\">\n  <thead>\n    <tr style=\"text-align: right;\">\n      <th></th>\n      <th>year</th>\n      <th>release_date</th>\n      <th>name</th>\n      <th>valence</th>\n      <th>energy</th>\n      <th>danceability</th>\n      <th>key</th>\n      <th>mode</th>\n      <th>tempo</th>\n    </tr>\n  </thead>\n  <tbody>\n    <tr>\n      <th>18049</th>\n      <td>2012</td>\n      <td>2012-01-01</td>\n      <td>Swimming Pools (Drank)</td>\n      <td>0.1890</td>\n      <td>0.447</td>\n      <td>0.577</td>\n      <td>8</td>\n      <td>1</td>\n      <td>74.236</td>\n    </tr>\n    <tr>\n      <th>153947</th>\n      <td>2012</td>\n      <td>2012-01-01</td>\n      <td>See No Evil</td>\n      <td>0.0749</td>\n      <td>0.440</td>\n      <td>0.489</td>\n      <td>9</td>\n      <td>1</td>\n      <td>156.807</td>\n    </tr>\n    <tr>\n      <th>18117</th>\n      <td>2012</td>\n      <td>2012-03-23</td>\n      <td>Fight the Feeling</td>\n      <td>0.8110</td>\n      <td>0.881</td>\n      <td>0.569</td>\n      <td>11</td>\n      <td>0</td>\n      <td>148.067</td>\n    </tr>\n    <tr>\n      <th>107080</th>\n      <td>2012</td>\n      <td>2012-05-11</td>\n      <td>Illuminate (feat. Kendrick Lamar)</td>\n      <td>0.5040</td>\n      <td>0.855</td>\n      <td>0.719</td>\n      <td>3</td>\n      <td>0</td>\n      <td>132.830</td>\n    </tr>\n    <tr>\n      <th>37180</th>\n      <td>2013</td>\n      <td>2013-01-01</td>\n      <td>Stay Ready (What A Life)</td>\n      <td>0.3080</td>\n      <td>0.493</td>\n      <td>0.347</td>\n      <td>8</td>\n      <td>0</td>\n      <td>82.887</td>\n    </tr>\n  </tbody>\n</table>\n</div>"
     },
     "metadata": {},
     "execution_count": 8
    }
   ],
   "source": [
    "KL_df = KL_df[['year', 'release_date', 'name', 'valence', 'energy', 'danceability', 'key', 'mode', 'tempo']]\n",
    "KL_df.head()"
   ]
  },
  {
   "cell_type": "code",
   "execution_count": 9,
   "metadata": {},
   "outputs": [
    {
     "output_type": "execute_result",
     "data": {
      "text/plain": [
       "        year release_date                                               name  \\\n",
       "123208  2012   2012-01-01                                   Thinkin Bout You   \n",
       "90592   2012   2012-03-16  Analog 2 (feat. Tyler, The Creator, Frank Ocea...   \n",
       "55694   2012   2012-03-16                          White (feat. Frank Ocean)   \n",
       "90631   2012   2012-07-10                                              Start   \n",
       "90572   2012   2012-07-10                                     Not Just Money   \n",
       "\n",
       "        valence  energy  danceability  key  mode    tempo  \n",
       "123208   0.2160  0.3290         0.726    0     1  129.844  \n",
       "90592    0.2620  0.6730         0.599    1     1  148.044  \n",
       "55694    0.1970  0.0671         0.510    3     0  106.017  \n",
       "90631    0.0316  0.3300         0.347    7     1   82.850  \n",
       "90572    0.1030  0.8270         0.357   11     0  152.130  "
      ],
      "text/html": "<div>\n<style scoped>\n    .dataframe tbody tr th:only-of-type {\n        vertical-align: middle;\n    }\n\n    .dataframe tbody tr th {\n        vertical-align: top;\n    }\n\n    .dataframe thead th {\n        text-align: right;\n    }\n</style>\n<table border=\"1\" class=\"dataframe\">\n  <thead>\n    <tr style=\"text-align: right;\">\n      <th></th>\n      <th>year</th>\n      <th>release_date</th>\n      <th>name</th>\n      <th>valence</th>\n      <th>energy</th>\n      <th>danceability</th>\n      <th>key</th>\n      <th>mode</th>\n      <th>tempo</th>\n    </tr>\n  </thead>\n  <tbody>\n    <tr>\n      <th>123208</th>\n      <td>2012</td>\n      <td>2012-01-01</td>\n      <td>Thinkin Bout You</td>\n      <td>0.2160</td>\n      <td>0.3290</td>\n      <td>0.726</td>\n      <td>0</td>\n      <td>1</td>\n      <td>129.844</td>\n    </tr>\n    <tr>\n      <th>90592</th>\n      <td>2012</td>\n      <td>2012-03-16</td>\n      <td>Analog 2 (feat. Tyler, The Creator, Frank Ocea...</td>\n      <td>0.2620</td>\n      <td>0.6730</td>\n      <td>0.599</td>\n      <td>1</td>\n      <td>1</td>\n      <td>148.044</td>\n    </tr>\n    <tr>\n      <th>55694</th>\n      <td>2012</td>\n      <td>2012-03-16</td>\n      <td>White (feat. Frank Ocean)</td>\n      <td>0.1970</td>\n      <td>0.0671</td>\n      <td>0.510</td>\n      <td>3</td>\n      <td>0</td>\n      <td>106.017</td>\n    </tr>\n    <tr>\n      <th>90631</th>\n      <td>2012</td>\n      <td>2012-07-10</td>\n      <td>Start</td>\n      <td>0.0316</td>\n      <td>0.3300</td>\n      <td>0.347</td>\n      <td>7</td>\n      <td>1</td>\n      <td>82.850</td>\n    </tr>\n    <tr>\n      <th>90572</th>\n      <td>2012</td>\n      <td>2012-07-10</td>\n      <td>Not Just Money</td>\n      <td>0.1030</td>\n      <td>0.8270</td>\n      <td>0.357</td>\n      <td>11</td>\n      <td>0</td>\n      <td>152.130</td>\n    </tr>\n  </tbody>\n</table>\n</div>"
     },
     "metadata": {},
     "execution_count": 9
    }
   ],
   "source": [
    "FO_df = FO_df[['year', 'release_date', 'name', 'valence', 'energy', 'danceability', 'key', 'mode', 'tempo']]\n",
    "FO_df.head()"
   ]
  },
  {
   "cell_type": "code",
   "execution_count": 10,
   "metadata": {},
   "outputs": [
    {
     "output_type": "execute_result",
     "data": {
      "text/plain": [
       "       year release_date                                               name  \\\n",
       "18293  2013   2013-01-01                                      Blurred Lines   \n",
       "90894  2013   2013-01-01                                      Feds Watching   \n",
       "18326  2013   2013-04-01                              IFHY (feat. Pharrell)   \n",
       "18290  2013   2013-04-19  Get Lucky (feat. Pharrell Williams & Nile Rodg...   \n",
       "18334  2013   2013-05-17  Get Lucky (feat. Pharrell Williams & Nile Rodg...   \n",
       "\n",
       "       valence  energy  danceability  key  mode    tempo  \n",
       "18293    0.843   0.599         0.853    7     1  119.993  \n",
       "90894    0.759   0.875         0.790    7     1  139.985  \n",
       "18326    0.274   0.716         0.360    7     1   86.001  \n",
       "18290    0.862   0.811         0.794    6     0  116.047  \n",
       "18334    0.863   0.793         0.810    6     0  116.049  "
      ],
      "text/html": "<div>\n<style scoped>\n    .dataframe tbody tr th:only-of-type {\n        vertical-align: middle;\n    }\n\n    .dataframe tbody tr th {\n        vertical-align: top;\n    }\n\n    .dataframe thead th {\n        text-align: right;\n    }\n</style>\n<table border=\"1\" class=\"dataframe\">\n  <thead>\n    <tr style=\"text-align: right;\">\n      <th></th>\n      <th>year</th>\n      <th>release_date</th>\n      <th>name</th>\n      <th>valence</th>\n      <th>energy</th>\n      <th>danceability</th>\n      <th>key</th>\n      <th>mode</th>\n      <th>tempo</th>\n    </tr>\n  </thead>\n  <tbody>\n    <tr>\n      <th>18293</th>\n      <td>2013</td>\n      <td>2013-01-01</td>\n      <td>Blurred Lines</td>\n      <td>0.843</td>\n      <td>0.599</td>\n      <td>0.853</td>\n      <td>7</td>\n      <td>1</td>\n      <td>119.993</td>\n    </tr>\n    <tr>\n      <th>90894</th>\n      <td>2013</td>\n      <td>2013-01-01</td>\n      <td>Feds Watching</td>\n      <td>0.759</td>\n      <td>0.875</td>\n      <td>0.790</td>\n      <td>7</td>\n      <td>1</td>\n      <td>139.985</td>\n    </tr>\n    <tr>\n      <th>18326</th>\n      <td>2013</td>\n      <td>2013-04-01</td>\n      <td>IFHY (feat. Pharrell)</td>\n      <td>0.274</td>\n      <td>0.716</td>\n      <td>0.360</td>\n      <td>7</td>\n      <td>1</td>\n      <td>86.001</td>\n    </tr>\n    <tr>\n      <th>18290</th>\n      <td>2013</td>\n      <td>2013-04-19</td>\n      <td>Get Lucky (feat. Pharrell Williams &amp; Nile Rodg...</td>\n      <td>0.862</td>\n      <td>0.811</td>\n      <td>0.794</td>\n      <td>6</td>\n      <td>0</td>\n      <td>116.047</td>\n    </tr>\n    <tr>\n      <th>18334</th>\n      <td>2013</td>\n      <td>2013-05-17</td>\n      <td>Get Lucky (feat. Pharrell Williams &amp; Nile Rodg...</td>\n      <td>0.863</td>\n      <td>0.793</td>\n      <td>0.810</td>\n      <td>6</td>\n      <td>0</td>\n      <td>116.049</td>\n    </tr>\n  </tbody>\n</table>\n</div>"
     },
     "metadata": {},
     "execution_count": 10
    }
   ],
   "source": [
    "PW_df = PW_df[['year', 'release_date', 'name', 'valence', 'energy', 'danceability', 'key', 'mode', 'tempo']]\n",
    "PW_df.head()"
   ]
  },
  {
   "cell_type": "code",
   "execution_count": 11,
   "metadata": {},
   "outputs": [],
   "source": [
    "KL_df['release_date'] = KL_df['release_date'].map(lambda x: x[5:7])\n",
    "KL_df.rename(columns={'release_date':'month'}, inplace = True)\n",
    "\n",
    "FO_df['release_date'] = FO_df['release_date'].map(lambda x: x[5:7])\n",
    "FO_df.rename(columns={'release_date':'month'}, inplace = True)\n",
    "\n",
    "PW_df['release_date'] = PW_df['release_date'].map(lambda x: x[5:7])\n",
    "PW_df.rename(columns={'release_date':'month'}, inplace = True)"
   ]
  },
  {
   "cell_type": "code",
   "execution_count": 12,
   "metadata": {},
   "outputs": [],
   "source": [
    "KL_df.set_index(['year', 'month', 'name'], inplace = True)\n",
    "FO_df.set_index(['year', 'month', 'name'], inplace = True)\n",
    "PW_df.set_index(['year', 'month', 'name'], inplace = True)"
   ]
  },
  {
   "cell_type": "code",
   "execution_count": 13,
   "metadata": {},
   "outputs": [],
   "source": [
    "array = [['vibe', 'vibe', 'vibe', 'composition', 'composition', 'composition'],['valence', 'energy', 'danceability', 'key', 'mode', 'tempo']]\n",
    "KL_df.columns = pd.MultiIndex.from_arrays(array)\n",
    "FO_df.columns = pd.MultiIndex.from_arrays(array)\n",
    "PW_df.columns = pd.MultiIndex.from_arrays(array)"
   ]
  },
  {
   "cell_type": "code",
   "execution_count": 80,
   "metadata": {},
   "outputs": [],
   "source": [
    "def vibecolor(value):\n",
    "    if value >= 0.75:\n",
    "        color = 'background-color:green'\n",
    "    elif value < 0.75 and value >= 0.50:\n",
    "        color = 'background-color:yellow'\n",
    "    elif value < 0.5:\n",
    "        color = 'background-color:red'\n",
    "    return color"
   ]
  },
  {
   "cell_type": "code",
   "execution_count": 85,
   "metadata": {},
   "outputs": [],
   "source": [
    "KL_df = KL_df.style.applymap(lambda x: vibecolor(x), subset=['vibe']) \n",
    "FO_df = FO_df.style.applymap(lambda x: vibecolor(x), subset=['vibe'])\n",
    "PW_df = PW_df.style.applymap(lambda x: vibecolor(x), subset=['vibe'])   "
   ]
  },
  {
   "cell_type": "code",
   "execution_count": 92,
   "metadata": {},
   "outputs": [],
   "source": [
    "with pd.ExcelWriter('excel_export.xlsx') as writer:  \n",
    "    KL_df.to_excel(writer, sheet_name = 'Kendrick Lamar')\n",
    "    FO_df.to_excel(writer, sheet_name = 'Frank Ocean')\n",
    "    PW_df.to_excel(writer, sheet_name = 'Parrell Williams')"
   ]
  }
 ]
}